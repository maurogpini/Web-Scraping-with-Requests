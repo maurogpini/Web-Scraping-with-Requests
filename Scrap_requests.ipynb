{
 "cells": [
  {
   "cell_type": "markdown",
   "metadata": {},
   "source": [
    "## *Guía de práctica y estudio de WebScraping con request*"
   ]
  },
  {
   "cell_type": "code",
   "execution_count": 61,
   "metadata": {},
   "outputs": [],
   "source": [
    "# Importar las librerías necesarias\n",
    "\n",
    "import requests \n",
    "import lxml.html as html\n",
    "import pandas as pd"
   ]
  },
  {
   "cell_type": "code",
   "execution_count": 24,
   "metadata": {},
   "outputs": [],
   "source": [
    "url_ppal = 'https://books.toscrape.com/index.html' # Página web con un catálogo de libros."
   ]
  },
  {
   "cell_type": "markdown",
   "metadata": {},
   "source": [
    "### Listado de expresiones xpath"
   ]
  },
  {
   "cell_type": "code",
   "execution_count": 25,
   "metadata": {},
   "outputs": [],
   "source": [
    "# Obtener links de categorías de libros\n",
    "links_categorias = '//ul[@class=\"nav nav-list\"]/li//ul/li/a/@href'\n",
    "\n",
    "# Obtener los títulos de los libros\n",
    "titulos = '//article[@class=\"product_pod\"]//h3/a/text()'\n",
    "\n",
    "# Obtener el precio de cada libro\n",
    "precios = '//li//div/p[@class=\"price_color\"]/text()'"
   ]
  },
  {
   "cell_type": "code",
   "execution_count": 26,
   "metadata": {},
   "outputs": [],
   "source": [
    "# Códigos para la consola del navegador en xpath.\n",
    "# $x('//article[@class=\"product_pod\"]//h3/a/text()').map(x=>x.value)\n",
    "# $x('//li//div/p[@class=\"price_color\"]').map(x=>x.text)"
   ]
  },
  {
   "cell_type": "markdown",
   "metadata": {},
   "source": [
    "### Requests sobre urls de cada libro"
   ]
  },
  {
   "cell_type": "code",
   "execution_count": 27,
   "metadata": {},
   "outputs": [
    {
     "name": "stdout",
     "output_type": "stream",
     "text": [
      "200\n"
     ]
    }
   ],
   "source": [
    "# Creo una variable que almacena la respuesta HTTP obtenida después de enviar la solicitud GET al servidor de la página.\n",
    "# requests.get() es una función de la librería requests que se utiliza para enviar una solicitud GET a una URL. \n",
    "# La URL que deseas solicitar se pasa como argumento a esta función.\n",
    "\n",
    "r = requests.get(url_ppal)\n",
    "\n",
    "# Imprimo el código del estado de la respuesta a la solicitud GET que se hizo a la URL. \n",
    "# Indica el resultado de la solicitud, como 200 para éxito, 404 para no encontrado, 500 para error interno del servidor, etc.\n",
    "print(r.status_code)"
   ]
  },
  {
   "cell_type": "code",
   "execution_count": 28,
   "metadata": {},
   "outputs": [
    {
     "name": "stdout",
     "output_type": "stream",
     "text": [
      "['catalogue/category/books/travel_2/index.html', 'catalogue/category/books/mystery_3/index.html', 'catalogue/category/books/historical-fiction_4/index.html', 'catalogue/category/books/sequential-art_5/index.html', 'catalogue/category/books/classics_6/index.html', 'catalogue/category/books/philosophy_7/index.html', 'catalogue/category/books/romance_8/index.html', 'catalogue/category/books/womens-fiction_9/index.html', 'catalogue/category/books/fiction_10/index.html', 'catalogue/category/books/childrens_11/index.html', 'catalogue/category/books/religion_12/index.html', 'catalogue/category/books/nonfiction_13/index.html', 'catalogue/category/books/music_14/index.html', 'catalogue/category/books/default_15/index.html', 'catalogue/category/books/science-fiction_16/index.html', 'catalogue/category/books/sports-and-games_17/index.html', 'catalogue/category/books/add-a-comment_18/index.html', 'catalogue/category/books/fantasy_19/index.html', 'catalogue/category/books/new-adult_20/index.html', 'catalogue/category/books/young-adult_21/index.html', 'catalogue/category/books/science_22/index.html', 'catalogue/category/books/poetry_23/index.html', 'catalogue/category/books/paranormal_24/index.html', 'catalogue/category/books/art_25/index.html', 'catalogue/category/books/psychology_26/index.html', 'catalogue/category/books/autobiography_27/index.html', 'catalogue/category/books/parenting_28/index.html', 'catalogue/category/books/adult-fiction_29/index.html', 'catalogue/category/books/humor_30/index.html', 'catalogue/category/books/horror_31/index.html', 'catalogue/category/books/history_32/index.html', 'catalogue/category/books/food-and-drink_33/index.html', 'catalogue/category/books/christian-fiction_34/index.html', 'catalogue/category/books/business_35/index.html', 'catalogue/category/books/biography_36/index.html', 'catalogue/category/books/thriller_37/index.html', 'catalogue/category/books/contemporary_38/index.html', 'catalogue/category/books/spirituality_39/index.html', 'catalogue/category/books/academic_40/index.html', 'catalogue/category/books/self-help_41/index.html', 'catalogue/category/books/historical_42/index.html', 'catalogue/category/books/christian_43/index.html', 'catalogue/category/books/suspense_44/index.html', 'catalogue/category/books/short-stories_45/index.html', 'catalogue/category/books/novels_46/index.html', 'catalogue/category/books/health_47/index.html', 'catalogue/category/books/politics_48/index.html', 'catalogue/category/books/cultural_49/index.html', 'catalogue/category/books/erotica_50/index.html', 'catalogue/category/books/crime_51/index.html']\n"
     ]
    }
   ],
   "source": [
    "# Defino la decodificación para evitar problemas con los caracteres\n",
    "home = r.content.decode('utf-8') \n",
    "\n",
    "# Creo un objeto que almacena el resultado del análisis del contenido HTML de la variable home. El objeto 'parser' facilita navegar por el contenido de la\n",
    "# página web asi como la manipulación y extracción posterior de la información.\n",
    "\n",
    "parser = html.fromstring(home)\n",
    "\n",
    "# Creo una variable para almacenar el listado de las URLs que surgen al aplicar la función de consulta xpath en el objeto parser.\n",
    "\n",
    "categorias_url = parser.xpath(links_categorias)\n",
    "print(categorias_url)"
   ]
  },
  {
   "cell_type": "code",
   "execution_count": 29,
   "metadata": {},
   "outputs": [],
   "source": [
    "#Las url no tienen un formato que sea útil, asique debo transformar esos strings concatenando el formato de página web.\n",
    "\n",
    "root_url = 'https://books.toscrape.com/'\n",
    "categorias_url = [root_url + x for x in categorias_url]"
   ]
  },
  {
   "cell_type": "code",
   "execution_count": 30,
   "metadata": {},
   "outputs": [
    {
     "name": "stdout",
     "output_type": "stream",
     "text": [
      "https://books.toscrape.com/catalogue/category/books/philosophy_7/index.html\n"
     ]
    }
   ],
   "source": [
    "# Imprimo una url al azar y chequeo que la transformación se realizó correctamente.\n",
    "print(categorias_url[5])"
   ]
  },
  {
   "cell_type": "code",
   "execution_count": 31,
   "metadata": {},
   "outputs": [
    {
     "name": "stdout",
     "output_type": "stream",
     "text": [
      "Sophie's World\n"
     ]
    }
   ],
   "source": [
    "# Hago una request sobre el primer título de la categoría 5 (Philosophy), que se que es \"Sophie's World\".\n",
    "\n",
    "prueba =  requests.get(categorias_url[5])\n",
    "home = prueba.content.decode('utf-8')\n",
    "parser = html.fromstring(home)\n",
    "resultado = parser.xpath(titulos)\n",
    "print(resultado[0])"
   ]
  },
  {
   "cell_type": "markdown",
   "metadata": {},
   "source": [
    "---"
   ]
  },
  {
   "cell_type": "markdown",
   "metadata": {},
   "source": [
    "Extra explanation, let's break down the logic step by step in this code:\n",
    "\n",
    "**r = requests.get(url_ppal):**\n",
    "\n",
    "This line sends an HTTP GET request to the URL specified in the url_ppal variable.\n",
    "It retrieves the web page's content, including HTML, and stores it in the r variable.\n",
    "\n",
    "**home = r.content.decode('utf-8'):**\n",
    "\n",
    "Here, we decode the content from bytes to a UTF-8 encoded string.\n",
    "The content attribute of the r variable contains the raw HTML content of the web page.\n",
    "Decoding it as UTF-8 ensures that the text is correctly interpreted.\n",
    "\n",
    "**parser = html.fromstring(home):**\n",
    "\n",
    "We create an HTML parser object using the fromstring method from the html module.\n",
    "This parser will allow us to navigate and extract data from the HTML content.\n",
    "\n",
    "**titulo = parser.xpath(titulos):**\n",
    "\n",
    "Using the xpath method of the parser, we search for elements that match the titulos XPath expression.\n",
    "The titulos variable likely contains an XPath expression to locate specific elements on the web page.\n",
    "This line extracts the data that matches the provided XPath expression and stores it in the titulo variable.\n",
    "\n",
    "**print(titulo):**\n",
    "\n",
    "Finally, we print the extracted data (likely titles) to the console. The titulo variable holds the result of the XPath query, which is printed as output.\n",
    "\n",
    "In summary, this code retrieves a web page, decodes its content, creates an HTML parser, extracts specific data (titles) from the HTML using an XPath expression, and prints the extracted data to the console. It's a common pattern for web scraping and data extraction tasks.\n"
   ]
  },
  {
   "cell_type": "markdown",
   "metadata": {},
   "source": [
    "---"
   ]
  },
  {
   "cell_type": "markdown",
   "metadata": {},
   "source": [
    "### Brief concepts on xpath:\n",
    "\n",
    "XPath is a language for navigating and querying XML or HTML documents. In the context of web scraping, XPath helps locate specific elements on a web page based on their attributes or structure. Here's how it works step by step:\n",
    "\n",
    "Document Structure:\n",
    "\n",
    "XPath treats an HTML or XML document as a tree structure, with elements (tags) represented as nodes and relationships between elements as branches.\n",
    "Element Selection:\n",
    "\n",
    "You specify an XPath expression, which is like a query, to pinpoint the element(s) you want to extract.\n",
    "For example, if you want to select all div elements with a specific class attribute, you write an XPath expression to target those elements.\n",
    "XPath Path: XPath expressions often follow a path-like syntax, resembling the hierarchy of elements in the document. Here's a breakdown:\n",
    "\n",
    "//: Selects nodes from the current node regardless of their location in the tree. It's often used to search the entire document.\n",
    "div: Selects all div elements.\n",
    "[@class=\"your-class\"]: Filters elements with a specific attribute and value, such as class=\"your-class\".\n",
    "Results:\n",
    "\n",
    "When you apply the XPath expression to the document, it returns a list of matching elements.\n",
    "In your example, when you use an XPath expression to select div elements with a specific class, you get a list of all those div elements.\n",
    "Data Extraction:\n",
    "\n",
    "You can further extract data from the selected elements, such as text content, attributes, or even nested elements, as needed.\n",
    "In your case, you're interested in the text content of these div elements, which contains the titles of items.\n",
    "In summary, XPath is a powerful tool for navigating the hierarchical structure of HTML or XML documents. It allows you to target specific elements based on their attributes or position in the tree, making it an essential tool for web scraping tasks like extracting data from web pages.\n",
    "\n",
    "\n",
    "\n",
    "\n",
    "User\n",
    "This code does not work now, but it used to work fine.\n",
    "links_para_ciclo = get_urls(url_ppal)\n",
    "\n",
    "Gives me this error:\n",
    "\n",
    "NameError: name 'get_urls' is not defined\n",
    "ChatGPT\n",
    "The error message you're seeing, \"NameError: name 'get_urls' is not defined,\" indicates that the Python function get_urls is not recognized or defined in your current code. This error typically occurs when you try to call a function that hasn't been defined or imported.\n",
    "\n",
    "To fix this issue, you need to make sure that the get_urls function is defined and available in your code. Here are some steps to resolve the problem:\n",
    "\n",
    "Check Function Definition: First, ensure that you have a function named get_urls defined somewhere in your code. It should look something like this:\n",
    "python\n",
    "Copy code\n",
    "def get_urls(url):\n",
    "    # Function implementation here\n",
    "    return urls\n",
    "Import Modules: If the get_urls function is defined in an external module or script, make sure you have imported that module at the beginning of your code using an import statement. For example:\n",
    "python\n",
    "Copy code\n",
    "from my_module import get_urls\n",
    "Replace my_module with the actual name of the module where get_urls is defined.\n",
    "\n",
    "Function Call: Ensure that you are calling the get_urls function correctly with the appropriate arguments. Double-check that the function call matches the function signature.\n",
    "If you can provide more details about your code or share the relevant parts of it, I can offer more specific guidance on how to resolve the issue.\n",
    "\n",
    "\n",
    "\n",
    "\n",
    "\n"
   ]
  },
  {
   "cell_type": "markdown",
   "metadata": {},
   "source": [
    "---"
   ]
  },
  {
   "cell_type": "markdown",
   "metadata": {},
   "source": [
    "### Requests sobre títulos de cada libro"
   ]
  },
  {
   "cell_type": "code",
   "execution_count": 33,
   "metadata": {},
   "outputs": [
    {
     "name": "stdout",
     "output_type": "stream",
     "text": [
      "['A Light in the ...', 'Tipping the Velvet', 'Soumission', 'Sharp Objects', 'Sapiens: A Brief History ...', 'The Requiem Red', 'The Dirty Little Secrets ...', 'The Coming Woman: A ...', 'The Boys in the ...', 'The Black Maria', 'Starving Hearts (Triangular Trade ...', \"Shakespeare's Sonnets\", 'Set Me Free', \"Scott Pilgrim's Precious Little ...\", 'Rip it Up and ...', 'Our Band Could Be ...', 'Olio', 'Mesaerion: The Best Science ...', 'Libertarianism for Beginners', \"It's Only the Himalayas\"]\n"
     ]
    }
   ],
   "source": [
    "r = requests.get(url_ppal)\n",
    "home = r.content.decode('utf-8') \n",
    "parser = html.fromstring(home)\n",
    "titulo = parser.xpath(titulos)\n",
    "print(titulo)"
   ]
  },
  {
   "cell_type": "markdown",
   "metadata": {},
   "source": [
    "### Requests sobre precio de cada libro"
   ]
  },
  {
   "cell_type": "code",
   "execution_count": 34,
   "metadata": {},
   "outputs": [
    {
     "name": "stdout",
     "output_type": "stream",
     "text": [
      "£15.94\n"
     ]
    }
   ],
   "source": [
    "# Verifico el precio de Sophie's World (£15.94)\n",
    "\n",
    "r = requests.get(categorias_url[5])\n",
    "home = r.content.decode('utf-8') \n",
    "parser = html.fromstring(home)\n",
    "precio = parser.xpath(precios)\n",
    "print(precio[0])"
   ]
  },
  {
   "cell_type": "markdown",
   "metadata": {},
   "source": [
    "### Generación de funciones de Scraping"
   ]
  },
  {
   "cell_type": "code",
   "execution_count": 44,
   "metadata": {},
   "outputs": [],
   "source": [
    "def fc_get_urls(url_ppal):\n",
    "    root_url = 'https://books.toscrape.com/'\n",
    "    links_categorias = '//ul[@class=\"nav nav-list\"]/li//ul/li/a/@href'\n",
    "    \n",
    "    r = requests.get(url_ppal)\n",
    "    home = r.content.decode('utf-8') \n",
    "    parser = html.fromstring(home)\n",
    "\n",
    "    categorias_url = parser.xpath(links_categorias)\n",
    "    categorias_url = [root_url + x for x in categorias_url]\n",
    "\n",
    "    return categorias_url"
   ]
  },
  {
   "cell_type": "code",
   "execution_count": 45,
   "metadata": {},
   "outputs": [],
   "source": [
    "def fc_parser_content(url):\n",
    "    diccionario = {} #Inicializo un diccionario vacío para luego guardar los datos de las request sobre títulos y precios.\n",
    "\n",
    "    r = requests.get(url)\n",
    "    home = r.content.decode('utf-8') \n",
    "    parser = html.fromstring(home)\n",
    "\n",
    "    if r.status_code == 200:\n",
    "        titulos = '//article[@class=\"product_pod\"]//h3/a/text()'\n",
    "        titulo = parser.xpath(titulos) \n",
    "        diccionario['Título'] = titulo\n",
    "\n",
    "        precios = '//li//div/p[@class=\"price_color\"]/text()'\n",
    "        precio = parser.xpath(precios)\n",
    "        diccionario['Precio'] = precio\n",
    "    return diccionario        "
   ]
  },
  {
   "cell_type": "code",
   "execution_count": 37,
   "metadata": {},
   "outputs": [
    {
     "data": {
      "text/plain": [
       "{'Título': ['A Light in the ...',\n",
       "  'Tipping the Velvet',\n",
       "  'Soumission',\n",
       "  'Sharp Objects',\n",
       "  'Sapiens: A Brief History ...',\n",
       "  'The Requiem Red',\n",
       "  'The Dirty Little Secrets ...',\n",
       "  'The Coming Woman: A ...',\n",
       "  'The Boys in the ...',\n",
       "  'The Black Maria',\n",
       "  'Starving Hearts (Triangular Trade ...',\n",
       "  \"Shakespeare's Sonnets\",\n",
       "  'Set Me Free',\n",
       "  \"Scott Pilgrim's Precious Little ...\",\n",
       "  'Rip it Up and ...',\n",
       "  'Our Band Could Be ...',\n",
       "  'Olio',\n",
       "  'Mesaerion: The Best Science ...',\n",
       "  'Libertarianism for Beginners',\n",
       "  \"It's Only the Himalayas\"],\n",
       " 'Precio': ['£51.77',\n",
       "  '£53.74',\n",
       "  '£50.10',\n",
       "  '£47.82',\n",
       "  '£54.23',\n",
       "  '£22.65',\n",
       "  '£33.34',\n",
       "  '£17.93',\n",
       "  '£22.60',\n",
       "  '£52.15',\n",
       "  '£13.99',\n",
       "  '£20.66',\n",
       "  '£17.46',\n",
       "  '£52.29',\n",
       "  '£35.02',\n",
       "  '£57.25',\n",
       "  '£23.88',\n",
       "  '£37.59',\n",
       "  '£51.33',\n",
       "  '£45.17']}"
      ]
     },
     "execution_count": 37,
     "metadata": {},
     "output_type": "execute_result"
    }
   ],
   "source": [
    "# Chequeo que funciona para los primeros 20 títulos de la página principal.\n",
    "fc_parser_content(url_ppal)"
   ]
  },
  {
   "cell_type": "code",
   "execution_count": 46,
   "metadata": {},
   "outputs": [],
   "source": [
    "# Genero una variable que tenga todos los links de la página para luego scrapear una por una\n",
    "links_para_ciclo = fc_get_urls(url_ppal)"
   ]
  },
  {
   "cell_type": "code",
   "execution_count": 47,
   "metadata": {},
   "outputs": [
    {
     "data": {
      "text/plain": [
       "['https://books.toscrape.com/catalogue/category/books/travel_2/index.html',\n",
       " 'https://books.toscrape.com/catalogue/category/books/mystery_3/index.html',\n",
       " 'https://books.toscrape.com/catalogue/category/books/historical-fiction_4/index.html',\n",
       " 'https://books.toscrape.com/catalogue/category/books/sequential-art_5/index.html',\n",
       " 'https://books.toscrape.com/catalogue/category/books/classics_6/index.html',\n",
       " 'https://books.toscrape.com/catalogue/category/books/philosophy_7/index.html',\n",
       " 'https://books.toscrape.com/catalogue/category/books/romance_8/index.html',\n",
       " 'https://books.toscrape.com/catalogue/category/books/womens-fiction_9/index.html',\n",
       " 'https://books.toscrape.com/catalogue/category/books/fiction_10/index.html',\n",
       " 'https://books.toscrape.com/catalogue/category/books/childrens_11/index.html',\n",
       " 'https://books.toscrape.com/catalogue/category/books/religion_12/index.html',\n",
       " 'https://books.toscrape.com/catalogue/category/books/nonfiction_13/index.html',\n",
       " 'https://books.toscrape.com/catalogue/category/books/music_14/index.html',\n",
       " 'https://books.toscrape.com/catalogue/category/books/default_15/index.html',\n",
       " 'https://books.toscrape.com/catalogue/category/books/science-fiction_16/index.html',\n",
       " 'https://books.toscrape.com/catalogue/category/books/sports-and-games_17/index.html',\n",
       " 'https://books.toscrape.com/catalogue/category/books/add-a-comment_18/index.html',\n",
       " 'https://books.toscrape.com/catalogue/category/books/fantasy_19/index.html',\n",
       " 'https://books.toscrape.com/catalogue/category/books/new-adult_20/index.html',\n",
       " 'https://books.toscrape.com/catalogue/category/books/young-adult_21/index.html',\n",
       " 'https://books.toscrape.com/catalogue/category/books/science_22/index.html',\n",
       " 'https://books.toscrape.com/catalogue/category/books/poetry_23/index.html',\n",
       " 'https://books.toscrape.com/catalogue/category/books/paranormal_24/index.html',\n",
       " 'https://books.toscrape.com/catalogue/category/books/art_25/index.html',\n",
       " 'https://books.toscrape.com/catalogue/category/books/psychology_26/index.html',\n",
       " 'https://books.toscrape.com/catalogue/category/books/autobiography_27/index.html',\n",
       " 'https://books.toscrape.com/catalogue/category/books/parenting_28/index.html',\n",
       " 'https://books.toscrape.com/catalogue/category/books/adult-fiction_29/index.html',\n",
       " 'https://books.toscrape.com/catalogue/category/books/humor_30/index.html',\n",
       " 'https://books.toscrape.com/catalogue/category/books/horror_31/index.html',\n",
       " 'https://books.toscrape.com/catalogue/category/books/history_32/index.html',\n",
       " 'https://books.toscrape.com/catalogue/category/books/food-and-drink_33/index.html',\n",
       " 'https://books.toscrape.com/catalogue/category/books/christian-fiction_34/index.html',\n",
       " 'https://books.toscrape.com/catalogue/category/books/business_35/index.html',\n",
       " 'https://books.toscrape.com/catalogue/category/books/biography_36/index.html',\n",
       " 'https://books.toscrape.com/catalogue/category/books/thriller_37/index.html',\n",
       " 'https://books.toscrape.com/catalogue/category/books/contemporary_38/index.html',\n",
       " 'https://books.toscrape.com/catalogue/category/books/spirituality_39/index.html',\n",
       " 'https://books.toscrape.com/catalogue/category/books/academic_40/index.html',\n",
       " 'https://books.toscrape.com/catalogue/category/books/self-help_41/index.html',\n",
       " 'https://books.toscrape.com/catalogue/category/books/historical_42/index.html',\n",
       " 'https://books.toscrape.com/catalogue/category/books/christian_43/index.html',\n",
       " 'https://books.toscrape.com/catalogue/category/books/suspense_44/index.html',\n",
       " 'https://books.toscrape.com/catalogue/category/books/short-stories_45/index.html',\n",
       " 'https://books.toscrape.com/catalogue/category/books/novels_46/index.html',\n",
       " 'https://books.toscrape.com/catalogue/category/books/health_47/index.html',\n",
       " 'https://books.toscrape.com/catalogue/category/books/politics_48/index.html',\n",
       " 'https://books.toscrape.com/catalogue/category/books/cultural_49/index.html',\n",
       " 'https://books.toscrape.com/catalogue/category/books/erotica_50/index.html',\n",
       " 'https://books.toscrape.com/catalogue/category/books/crime_51/index.html']"
      ]
     },
     "execution_count": 47,
     "metadata": {},
     "output_type": "execute_result"
    }
   ],
   "source": [
    "links_para_ciclo"
   ]
  },
  {
   "cell_type": "code",
   "execution_count": 48,
   "metadata": {},
   "outputs": [
    {
     "data": {
      "text/plain": [
       "50"
      ]
     },
     "execution_count": 48,
     "metadata": {},
     "output_type": "execute_result"
    }
   ],
   "source": [
    "# Corroboro que sean la misma cantidad de todas las páginas de la web.\n",
    "len(links_para_ciclo) "
   ]
  },
  {
   "cell_type": "code",
   "execution_count": 49,
   "metadata": {},
   "outputs": [
    {
     "name": "stdout",
     "output_type": "stream",
     "text": [
      "Se está escrapeando la página número 0\n",
      "Se está escrapeando la página número 1\n",
      "Se está escrapeando la página número 2\n",
      "Se está escrapeando la página número 3\n",
      "Se está escrapeando la página número 4\n",
      "Se está escrapeando la página número 5\n",
      "Se está escrapeando la página número 6\n",
      "Se está escrapeando la página número 7\n",
      "Se está escrapeando la página número 8\n",
      "Se está escrapeando la página número 9\n",
      "Se está escrapeando la página número 10\n",
      "Se está escrapeando la página número 11\n",
      "Se está escrapeando la página número 12\n",
      "Se está escrapeando la página número 13\n",
      "Se está escrapeando la página número 14\n",
      "Se está escrapeando la página número 15\n",
      "Se está escrapeando la página número 16\n",
      "Se está escrapeando la página número 17\n",
      "Se está escrapeando la página número 18\n",
      "Se está escrapeando la página número 19\n",
      "Se está escrapeando la página número 20\n",
      "Se está escrapeando la página número 21\n",
      "Se está escrapeando la página número 22\n",
      "Se está escrapeando la página número 23\n",
      "Se está escrapeando la página número 24\n",
      "Se está escrapeando la página número 25\n",
      "Se está escrapeando la página número 26\n",
      "Se está escrapeando la página número 27\n",
      "Se está escrapeando la página número 28\n",
      "Se está escrapeando la página número 29\n",
      "Se está escrapeando la página número 30\n",
      "Se está escrapeando la página número 31\n",
      "Se está escrapeando la página número 32\n",
      "Se está escrapeando la página número 33\n",
      "Se está escrapeando la página número 34\n",
      "Se está escrapeando la página número 35\n",
      "Se está escrapeando la página número 36\n",
      "Se está escrapeando la página número 37\n",
      "Se está escrapeando la página número 38\n",
      "Se está escrapeando la página número 39\n",
      "Se está escrapeando la página número 40\n",
      "Se está escrapeando la página número 41\n",
      "Se está escrapeando la página número 42\n",
      "Se está escrapeando la página número 43\n",
      "Se está escrapeando la página número 44\n",
      "Se está escrapeando la página número 45\n",
      "Se está escrapeando la página número 46\n",
      "Se está escrapeando la página número 47\n",
      "Se está escrapeando la página número 48\n",
      "Se está escrapeando la página número 49\n"
     ]
    }
   ],
   "source": [
    "# Data va a ser una lista que en cada elemento tendrá un diccionario que contendrá títulos y precios de cada libro correspondiente a cada página.\n",
    "\n",
    "data = []\n",
    "for index , i in enumerate(links_para_ciclo):\n",
    "    print(f'Se está escrapeando la página número {index}')\n",
    "    data.append(fc_parser_content(i))"
   ]
  },
  {
   "cell_type": "markdown",
   "metadata": {},
   "source": [
    "### Generación de un DF"
   ]
  },
  {
   "cell_type": "code",
   "execution_count": 50,
   "metadata": {},
   "outputs": [],
   "source": [
    "df = pd.DataFrame()\n",
    "for j in data:\n",
    "    df_temporal = pd.DataFrame(j)\n",
    "    df = pd.concat([df,df_temporal])"
   ]
  },
  {
   "cell_type": "code",
   "execution_count": 59,
   "metadata": {},
   "outputs": [
    {
     "data": {
      "text/html": [
       "<div>\n",
       "<style scoped>\n",
       "    .dataframe tbody tr th:only-of-type {\n",
       "        vertical-align: middle;\n",
       "    }\n",
       "\n",
       "    .dataframe tbody tr th {\n",
       "        vertical-align: top;\n",
       "    }\n",
       "\n",
       "    .dataframe thead th {\n",
       "        text-align: right;\n",
       "    }\n",
       "</style>\n",
       "<table border=\"1\" class=\"dataframe\">\n",
       "  <thead>\n",
       "    <tr style=\"text-align: right;\">\n",
       "      <th></th>\n",
       "      <th>Título</th>\n",
       "      <th>Precio</th>\n",
       "    </tr>\n",
       "  </thead>\n",
       "  <tbody>\n",
       "    <tr>\n",
       "      <th>0</th>\n",
       "      <td>It's Only the Himalayas</td>\n",
       "      <td>£45.17</td>\n",
       "    </tr>\n",
       "    <tr>\n",
       "      <th>1</th>\n",
       "      <td>Full Moon over Noah’s ...</td>\n",
       "      <td>£49.43</td>\n",
       "    </tr>\n",
       "    <tr>\n",
       "      <th>2</th>\n",
       "      <td>See America: A Celebration ...</td>\n",
       "      <td>£48.87</td>\n",
       "    </tr>\n",
       "    <tr>\n",
       "      <th>3</th>\n",
       "      <td>Vagabonding: An Uncommon Guide ...</td>\n",
       "      <td>£36.94</td>\n",
       "    </tr>\n",
       "    <tr>\n",
       "      <th>4</th>\n",
       "      <td>Under the Tuscan Sun</td>\n",
       "      <td>£37.33</td>\n",
       "    </tr>\n",
       "    <tr>\n",
       "      <th>5</th>\n",
       "      <td>A Summer In Europe</td>\n",
       "      <td>£44.34</td>\n",
       "    </tr>\n",
       "    <tr>\n",
       "      <th>6</th>\n",
       "      <td>The Great Railway Bazaar</td>\n",
       "      <td>£30.54</td>\n",
       "    </tr>\n",
       "    <tr>\n",
       "      <th>7</th>\n",
       "      <td>A Year in Provence ...</td>\n",
       "      <td>£56.88</td>\n",
       "    </tr>\n",
       "    <tr>\n",
       "      <th>8</th>\n",
       "      <td>The Road to Little ...</td>\n",
       "      <td>£23.21</td>\n",
       "    </tr>\n",
       "    <tr>\n",
       "      <th>9</th>\n",
       "      <td>Neither Here nor There: ...</td>\n",
       "      <td>£38.95</td>\n",
       "    </tr>\n",
       "    <tr>\n",
       "      <th>10</th>\n",
       "      <td>1,000 Places to See ...</td>\n",
       "      <td>£26.08</td>\n",
       "    </tr>\n",
       "    <tr>\n",
       "      <th>0</th>\n",
       "      <td>Sharp Objects</td>\n",
       "      <td>£47.82</td>\n",
       "    </tr>\n",
       "    <tr>\n",
       "      <th>1</th>\n",
       "      <td>In a Dark, Dark ...</td>\n",
       "      <td>£19.63</td>\n",
       "    </tr>\n",
       "    <tr>\n",
       "      <th>2</th>\n",
       "      <td>The Past Never Ends</td>\n",
       "      <td>£56.50</td>\n",
       "    </tr>\n",
       "    <tr>\n",
       "      <th>3</th>\n",
       "      <td>A Murder in Time</td>\n",
       "      <td>£16.64</td>\n",
       "    </tr>\n",
       "  </tbody>\n",
       "</table>\n",
       "</div>"
      ],
      "text/plain": [
       "                                Título  Precio\n",
       "0              It's Only the Himalayas  £45.17\n",
       "1            Full Moon over Noah’s ...  £49.43\n",
       "2       See America: A Celebration ...  £48.87\n",
       "3   Vagabonding: An Uncommon Guide ...  £36.94\n",
       "4                 Under the Tuscan Sun  £37.33\n",
       "5                   A Summer In Europe  £44.34\n",
       "6             The Great Railway Bazaar  £30.54\n",
       "7               A Year in Provence ...  £56.88\n",
       "8               The Road to Little ...  £23.21\n",
       "9          Neither Here nor There: ...  £38.95\n",
       "10             1,000 Places to See ...  £26.08\n",
       "0                        Sharp Objects  £47.82\n",
       "1                  In a Dark, Dark ...  £19.63\n",
       "2                  The Past Never Ends  £56.50\n",
       "3                     A Murder in Time  £16.64"
      ]
     },
     "execution_count": 59,
     "metadata": {},
     "output_type": "execute_result"
    }
   ],
   "source": [
    "df.head(15)"
   ]
  },
  {
   "cell_type": "code",
   "execution_count": 57,
   "metadata": {},
   "outputs": [
    {
     "data": {
      "text/html": [
       "<div>\n",
       "<style scoped>\n",
       "    .dataframe tbody tr th:only-of-type {\n",
       "        vertical-align: middle;\n",
       "    }\n",
       "\n",
       "    .dataframe tbody tr th {\n",
       "        vertical-align: top;\n",
       "    }\n",
       "\n",
       "    .dataframe thead th {\n",
       "        text-align: right;\n",
       "    }\n",
       "</style>\n",
       "<table border=\"1\" class=\"dataframe\">\n",
       "  <thead>\n",
       "    <tr style=\"text-align: right;\">\n",
       "      <th></th>\n",
       "      <th>Título</th>\n",
       "      <th>Price(£)</th>\n",
       "    </tr>\n",
       "  </thead>\n",
       "  <tbody>\n",
       "    <tr>\n",
       "      <th>0</th>\n",
       "      <td>It's Only the Himalayas</td>\n",
       "      <td>45.17</td>\n",
       "    </tr>\n",
       "    <tr>\n",
       "      <th>1</th>\n",
       "      <td>Full Moon over Noah’s ...</td>\n",
       "      <td>49.43</td>\n",
       "    </tr>\n",
       "    <tr>\n",
       "      <th>2</th>\n",
       "      <td>See America: A Celebration ...</td>\n",
       "      <td>48.87</td>\n",
       "    </tr>\n",
       "    <tr>\n",
       "      <th>3</th>\n",
       "      <td>Vagabonding: An Uncommon Guide ...</td>\n",
       "      <td>36.94</td>\n",
       "    </tr>\n",
       "    <tr>\n",
       "      <th>4</th>\n",
       "      <td>Under the Tuscan Sun</td>\n",
       "      <td>37.33</td>\n",
       "    </tr>\n",
       "  </tbody>\n",
       "</table>\n",
       "</div>"
      ],
      "text/plain": [
       "                               Título  Price(£)\n",
       "0             It's Only the Himalayas     45.17\n",
       "1           Full Moon over Noah’s ...     49.43\n",
       "2      See America: A Celebration ...     48.87\n",
       "3  Vagabonding: An Uncommon Guide ...     36.94\n",
       "4                Under the Tuscan Sun     37.33"
      ]
     },
     "execution_count": 57,
     "metadata": {},
     "output_type": "execute_result"
    }
   ],
   "source": [
    "\"\"\"\n",
    "Cleaning Data.\n",
    "\"\"\"\n",
    "def clean_data(df):\n",
    "    # Reseting the indexes\n",
    "    df = df.reset_index(drop=True)\n",
    "    # Rename column 'Precio' to 'Price(£)'\n",
    "    df = df.rename(columns={'Precio': 'Price(£)'})\n",
    "    # Remove the \"£\" symbol and convert to numeric\n",
    "    df[\"Price(£)\"] = df[\"Price(£)\"].str.replace(\"£\", \"\").astype(float)\n",
    "    return df\n",
    "\n",
    "df_clean = clean_data(df.copy())\n",
    "df_clean.head()"
   ]
  },
  {
   "cell_type": "code",
   "execution_count": 60,
   "metadata": {},
   "outputs": [
    {
     "data": {
      "text/html": [
       "<div>\n",
       "<style scoped>\n",
       "    .dataframe tbody tr th:only-of-type {\n",
       "        vertical-align: middle;\n",
       "    }\n",
       "\n",
       "    .dataframe tbody tr th {\n",
       "        vertical-align: top;\n",
       "    }\n",
       "\n",
       "    .dataframe thead th {\n",
       "        text-align: right;\n",
       "    }\n",
       "</style>\n",
       "<table border=\"1\" class=\"dataframe\">\n",
       "  <thead>\n",
       "    <tr style=\"text-align: right;\">\n",
       "      <th></th>\n",
       "      <th>Título</th>\n",
       "      <th>Price(£)</th>\n",
       "    </tr>\n",
       "  </thead>\n",
       "  <tbody>\n",
       "    <tr>\n",
       "      <th>512</th>\n",
       "      <td>Why the Right Went ...</td>\n",
       "      <td>52.65</td>\n",
       "    </tr>\n",
       "    <tr>\n",
       "      <th>513</th>\n",
       "      <td>Equal Is Unfair: America's ...</td>\n",
       "      <td>56.86</td>\n",
       "    </tr>\n",
       "    <tr>\n",
       "      <th>514</th>\n",
       "      <td>Amid the Chaos</td>\n",
       "      <td>36.58</td>\n",
       "    </tr>\n",
       "    <tr>\n",
       "      <th>515</th>\n",
       "      <td>Dark Notes</td>\n",
       "      <td>19.19</td>\n",
       "    </tr>\n",
       "    <tr>\n",
       "      <th>516</th>\n",
       "      <td>The Long Shadow of ...</td>\n",
       "      <td>10.97</td>\n",
       "    </tr>\n",
       "  </tbody>\n",
       "</table>\n",
       "</div>"
      ],
      "text/plain": [
       "                             Título  Price(£)\n",
       "512          Why the Right Went ...     52.65\n",
       "513  Equal Is Unfair: America's ...     56.86\n",
       "514                  Amid the Chaos     36.58\n",
       "515                      Dark Notes     19.19\n",
       "516          The Long Shadow of ...     10.97"
      ]
     },
     "execution_count": 60,
     "metadata": {},
     "output_type": "execute_result"
    }
   ],
   "source": [
    "df_clean.tail()"
   ]
  },
  {
   "cell_type": "markdown",
   "metadata": {},
   "source": [
    "De esta forma ya tengo un dataframe listo para ser utilizado."
   ]
  }
 ],
 "metadata": {
  "kernelspec": {
   "display_name": "Python 3",
   "language": "python",
   "name": "python3"
  },
  "language_info": {
   "codemirror_mode": {
    "name": "ipython",
    "version": 3
   },
   "file_extension": ".py",
   "mimetype": "text/x-python",
   "name": "python",
   "nbconvert_exporter": "python",
   "pygments_lexer": "ipython3",
   "version": "3.10.10"
  },
  "orig_nbformat": 4
 },
 "nbformat": 4,
 "nbformat_minor": 2
}
